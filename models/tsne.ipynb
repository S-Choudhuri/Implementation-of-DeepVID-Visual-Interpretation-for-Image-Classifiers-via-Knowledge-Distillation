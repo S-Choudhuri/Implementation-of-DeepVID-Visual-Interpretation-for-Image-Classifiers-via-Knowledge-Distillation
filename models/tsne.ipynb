{
 "cells": [
  {
   "cell_type": "code",
   "execution_count": 15,
   "metadata": {},
   "outputs": [],
   "source": [
    "from keras.datasets import mnist\n",
    "(x_train, y_train), (x_test, y_test) = mnist.load_data()"
   ]
  },
  {
   "cell_type": "code",
   "execution_count": 16,
   "metadata": {},
   "outputs": [
    {
     "data": {
      "text/plain": [
       "(70000,)"
      ]
     },
     "execution_count": 16,
     "metadata": {},
     "output_type": "execute_result"
    }
   ],
   "source": [
    "import numpy as np\n",
    "x = np.concatenate((x_train, x_test))\n",
    "x.shape\n",
    "y = np.concatenate((y_train,y_test))\n",
    "y.shape "
   ]
  },
  {
   "cell_type": "code",
   "execution_count": 17,
   "metadata": {},
   "outputs": [
    {
     "data": {
      "text/plain": [
       "(70000, 784)"
      ]
     },
     "execution_count": 17,
     "metadata": {},
     "output_type": "execute_result"
    }
   ],
   "source": [
    "x.shape\n",
    "x = np.reshape(x,(70000,784))\n",
    "x.shape"
   ]
  },
  {
   "cell_type": "code",
   "execution_count": 18,
   "metadata": {},
   "outputs": [
    {
     "name": "stdout",
     "output_type": "stream",
     "text": [
      "[t-SNE] Computing 61 nearest neighbors...\n",
      "[t-SNE] Indexed 70000 samples in 32.059s...\n",
      "[t-SNE] Computed neighbors for 70000 samples in 7627.357s...\n",
      "[t-SNE] Computed conditional probabilities for sample 1000 / 70000\n",
      "[t-SNE] Computed conditional probabilities for sample 2000 / 70000\n",
      "[t-SNE] Computed conditional probabilities for sample 3000 / 70000\n",
      "[t-SNE] Computed conditional probabilities for sample 4000 / 70000\n",
      "[t-SNE] Computed conditional probabilities for sample 5000 / 70000\n",
      "[t-SNE] Computed conditional probabilities for sample 6000 / 70000\n",
      "[t-SNE] Computed conditional probabilities for sample 7000 / 70000\n",
      "[t-SNE] Computed conditional probabilities for sample 8000 / 70000\n",
      "[t-SNE] Computed conditional probabilities for sample 9000 / 70000\n",
      "[t-SNE] Computed conditional probabilities for sample 10000 / 70000\n",
      "[t-SNE] Computed conditional probabilities for sample 11000 / 70000\n",
      "[t-SNE] Computed conditional probabilities for sample 12000 / 70000\n",
      "[t-SNE] Computed conditional probabilities for sample 13000 / 70000\n",
      "[t-SNE] Computed conditional probabilities for sample 14000 / 70000\n",
      "[t-SNE] Computed conditional probabilities for sample 15000 / 70000\n",
      "[t-SNE] Computed conditional probabilities for sample 16000 / 70000\n",
      "[t-SNE] Computed conditional probabilities for sample 17000 / 70000\n",
      "[t-SNE] Computed conditional probabilities for sample 18000 / 70000\n",
      "[t-SNE] Computed conditional probabilities for sample 19000 / 70000\n",
      "[t-SNE] Computed conditional probabilities for sample 20000 / 70000\n",
      "[t-SNE] Computed conditional probabilities for sample 21000 / 70000\n",
      "[t-SNE] Computed conditional probabilities for sample 22000 / 70000\n",
      "[t-SNE] Computed conditional probabilities for sample 23000 / 70000\n",
      "[t-SNE] Computed conditional probabilities for sample 24000 / 70000\n",
      "[t-SNE] Computed conditional probabilities for sample 25000 / 70000\n",
      "[t-SNE] Computed conditional probabilities for sample 26000 / 70000\n",
      "[t-SNE] Computed conditional probabilities for sample 27000 / 70000\n",
      "[t-SNE] Computed conditional probabilities for sample 28000 / 70000\n",
      "[t-SNE] Computed conditional probabilities for sample 29000 / 70000\n",
      "[t-SNE] Computed conditional probabilities for sample 30000 / 70000\n",
      "[t-SNE] Computed conditional probabilities for sample 31000 / 70000\n",
      "[t-SNE] Computed conditional probabilities for sample 32000 / 70000\n",
      "[t-SNE] Computed conditional probabilities for sample 33000 / 70000\n",
      "[t-SNE] Computed conditional probabilities for sample 34000 / 70000\n",
      "[t-SNE] Computed conditional probabilities for sample 35000 / 70000\n",
      "[t-SNE] Computed conditional probabilities for sample 36000 / 70000\n",
      "[t-SNE] Computed conditional probabilities for sample 37000 / 70000\n",
      "[t-SNE] Computed conditional probabilities for sample 38000 / 70000\n",
      "[t-SNE] Computed conditional probabilities for sample 39000 / 70000\n",
      "[t-SNE] Computed conditional probabilities for sample 40000 / 70000\n",
      "[t-SNE] Computed conditional probabilities for sample 41000 / 70000\n",
      "[t-SNE] Computed conditional probabilities for sample 42000 / 70000\n",
      "[t-SNE] Computed conditional probabilities for sample 43000 / 70000\n",
      "[t-SNE] Computed conditional probabilities for sample 44000 / 70000\n",
      "[t-SNE] Computed conditional probabilities for sample 45000 / 70000\n",
      "[t-SNE] Computed conditional probabilities for sample 46000 / 70000\n",
      "[t-SNE] Computed conditional probabilities for sample 47000 / 70000\n",
      "[t-SNE] Computed conditional probabilities for sample 48000 / 70000\n",
      "[t-SNE] Computed conditional probabilities for sample 49000 / 70000\n",
      "[t-SNE] Computed conditional probabilities for sample 50000 / 70000\n",
      "[t-SNE] Computed conditional probabilities for sample 51000 / 70000\n",
      "[t-SNE] Computed conditional probabilities for sample 52000 / 70000\n",
      "[t-SNE] Computed conditional probabilities for sample 53000 / 70000\n",
      "[t-SNE] Computed conditional probabilities for sample 54000 / 70000\n",
      "[t-SNE] Computed conditional probabilities for sample 55000 / 70000\n",
      "[t-SNE] Computed conditional probabilities for sample 56000 / 70000\n",
      "[t-SNE] Computed conditional probabilities for sample 57000 / 70000\n",
      "[t-SNE] Computed conditional probabilities for sample 58000 / 70000\n",
      "[t-SNE] Computed conditional probabilities for sample 59000 / 70000\n",
      "[t-SNE] Computed conditional probabilities for sample 60000 / 70000\n",
      "[t-SNE] Computed conditional probabilities for sample 61000 / 70000\n",
      "[t-SNE] Computed conditional probabilities for sample 62000 / 70000\n",
      "[t-SNE] Computed conditional probabilities for sample 63000 / 70000\n",
      "[t-SNE] Computed conditional probabilities for sample 64000 / 70000\n",
      "[t-SNE] Computed conditional probabilities for sample 65000 / 70000\n",
      "[t-SNE] Computed conditional probabilities for sample 66000 / 70000\n",
      "[t-SNE] Computed conditional probabilities for sample 67000 / 70000\n",
      "[t-SNE] Computed conditional probabilities for sample 68000 / 70000\n",
      "[t-SNE] Computed conditional probabilities for sample 69000 / 70000\n",
      "[t-SNE] Computed conditional probabilities for sample 70000 / 70000\n",
      "[t-SNE] Mean sigma: 327.052079\n",
      "[t-SNE] KL divergence after 250 iterations with early exaggeration: 103.137276\n",
      "[t-SNE] Error after 1000 iterations: 3.389575\n"
     ]
    }
   ],
   "source": [
    "from sklearn.manifold import TSNE\n",
    "x_embedded = TSNE(n_components=2,verbose = 1, perplexity = 20).fit_transform(x)"
   ]
  },
  {
   "cell_type": "code",
   "execution_count": 19,
   "metadata": {},
   "outputs": [
    {
     "data": {
      "text/plain": [
       "(70000, 2)"
      ]
     },
     "execution_count": 19,
     "metadata": {},
     "output_type": "execute_result"
    }
   ],
   "source": [
    "x_embedded.shape"
   ]
  },
  {
   "cell_type": "code",
   "execution_count": 20,
   "metadata": {},
   "outputs": [],
   "source": [
    "np.save(\"tsne_2.npy\",x_embedded)"
   ]
  },
  {
   "cell_type": "code",
   "execution_count": null,
   "metadata": {},
   "outputs": [],
   "source": []
  }
 ],
 "metadata": {
  "kernelspec": {
   "display_name": "Python 3",
   "language": "python",
   "name": "python3"
  },
  "language_info": {
   "codemirror_mode": {
    "name": "ipython",
    "version": 3
   },
   "file_extension": ".py",
   "mimetype": "text/x-python",
   "name": "python",
   "nbconvert_exporter": "python",
   "pygments_lexer": "ipython3",
   "version": "3.7.5"
  }
 },
 "nbformat": 4,
 "nbformat_minor": 2
}
